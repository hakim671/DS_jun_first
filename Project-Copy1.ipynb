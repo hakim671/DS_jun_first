{
 "cells": [
  {
   "cell_type": "code",
   "execution_count": 1,
   "id": "368652d2-8fe4-4d18-b0af-00745756c5be",
   "metadata": {},
   "outputs": [],
   "source": [
    "from sklearn.tree import DecisionTreeClassifier\n",
    "from sklearn.model_selection import GridSearchCV, train_test_split, cross_val_score\n",
    "from sklearn.metrics import roc_auc_score, f1_score, recall_score, precision_score, accuracy_score, precision_recall_curve\n",
    "from sklearn.preprocessing import LabelEncoder\n",
    "import matplotlib.pyplot as plt\n",
    "import pandas as pd\n",
    "import numpy as np\n",
    "from sklearn.linear_model import LogisticRegression\n",
    "from sklearn.neighbors import KNeighborsClassifier\n",
    "from sklearn.ensemble import RandomForestClassifier\n",
    "from catboost import CatBoostClassifier\n",
    "import warnings\n",
    "warnings.filterwarnings(\"ignore\")"
   ]
  },
  {
   "cell_type": "code",
   "execution_count": 2,
   "id": "3203e252-bc62-4f15-85ee-6d049a44f569",
   "metadata": {},
   "outputs": [],
   "source": [
    "df = pd.read_excel('final_prj.xlsx')"
   ]
  },
  {
   "cell_type": "code",
   "execution_count": 3,
   "id": "369b3089-1fc6-4b48-8b29-93e928f392f8",
   "metadata": {},
   "outputs": [
    {
     "data": {
      "text/html": [
       "<div>\n",
       "<style scoped>\n",
       "    .dataframe tbody tr th:only-of-type {\n",
       "        vertical-align: middle;\n",
       "    }\n",
       "\n",
       "    .dataframe tbody tr th {\n",
       "        vertical-align: top;\n",
       "    }\n",
       "\n",
       "    .dataframe thead th {\n",
       "        text-align: right;\n",
       "    }\n",
       "</style>\n",
       "<table border=\"1\" class=\"dataframe\">\n",
       "  <thead>\n",
       "    <tr style=\"text-align: right;\">\n",
       "      <th></th>\n",
       "      <th>age</th>\n",
       "      <th>gender</th>\n",
       "      <th>edu_lvl</th>\n",
       "      <th>marital_status</th>\n",
       "      <th>occupation</th>\n",
       "      <th>income_lvl</th>\n",
       "      <th>live_area</th>\n",
       "      <th>diagnosis</th>\n",
       "      <th>Family_History</th>\n",
       "      <th>Substance_use</th>\n",
       "      <th>Suicide_Attempt</th>\n",
       "      <th>Social_Support</th>\n",
       "      <th>Stress_Factors</th>\n",
       "    </tr>\n",
       "  </thead>\n",
       "  <tbody>\n",
       "    <tr>\n",
       "      <th>0</th>\n",
       "      <td>72</td>\n",
       "      <td>male</td>\n",
       "      <td>University</td>\n",
       "      <td>Divorced</td>\n",
       "      <td>Unemployed</td>\n",
       "      <td>High</td>\n",
       "      <td>city</td>\n",
       "      <td>0</td>\n",
       "      <td>0</td>\n",
       "      <td>No</td>\n",
       "      <td>No</td>\n",
       "      <td>Low</td>\n",
       "      <td>High</td>\n",
       "    </tr>\n",
       "    <tr>\n",
       "      <th>1</th>\n",
       "      <td>49</td>\n",
       "      <td>male</td>\n",
       "      <td>Postgraduate</td>\n",
       "      <td>Divorced</td>\n",
       "      <td>Retired</td>\n",
       "      <td>Medium</td>\n",
       "      <td>village</td>\n",
       "      <td>1</td>\n",
       "      <td>1</td>\n",
       "      <td>Yes</td>\n",
       "      <td>Yes</td>\n",
       "      <td>High</td>\n",
       "      <td>High</td>\n",
       "    </tr>\n",
       "    <tr>\n",
       "      <th>2</th>\n",
       "      <td>53</td>\n",
       "      <td>male</td>\n",
       "      <td>Postgraduate</td>\n",
       "      <td>Widowed</td>\n",
       "      <td>Retired</td>\n",
       "      <td>Medium</td>\n",
       "      <td>village</td>\n",
       "      <td>1</td>\n",
       "      <td>1</td>\n",
       "      <td>No</td>\n",
       "      <td>No</td>\n",
       "      <td>Low</td>\n",
       "      <td>Medium</td>\n",
       "    </tr>\n",
       "    <tr>\n",
       "      <th>3</th>\n",
       "      <td>67</td>\n",
       "      <td>male</td>\n",
       "      <td>High_School</td>\n",
       "      <td>Divorced</td>\n",
       "      <td>Unemployed</td>\n",
       "      <td>High</td>\n",
       "      <td>village</td>\n",
       "      <td>0</td>\n",
       "      <td>0</td>\n",
       "      <td>Yes</td>\n",
       "      <td>No</td>\n",
       "      <td>Medium</td>\n",
       "      <td>Medium</td>\n",
       "    </tr>\n",
       "    <tr>\n",
       "      <th>4</th>\n",
       "      <td>54</td>\n",
       "      <td>female</td>\n",
       "      <td>Primary</td>\n",
       "      <td>Divorced</td>\n",
       "      <td>Unemployed</td>\n",
       "      <td>High</td>\n",
       "      <td>city</td>\n",
       "      <td>0</td>\n",
       "      <td>0</td>\n",
       "      <td>No</td>\n",
       "      <td>No</td>\n",
       "      <td>Low</td>\n",
       "      <td>Medium</td>\n",
       "    </tr>\n",
       "    <tr>\n",
       "      <th>...</th>\n",
       "      <td>...</td>\n",
       "      <td>...</td>\n",
       "      <td>...</td>\n",
       "      <td>...</td>\n",
       "      <td>...</td>\n",
       "      <td>...</td>\n",
       "      <td>...</td>\n",
       "      <td>...</td>\n",
       "      <td>...</td>\n",
       "      <td>...</td>\n",
       "      <td>...</td>\n",
       "      <td>...</td>\n",
       "      <td>...</td>\n",
       "    </tr>\n",
       "    <tr>\n",
       "      <th>9995</th>\n",
       "      <td>72</td>\n",
       "      <td>female</td>\n",
       "      <td>Middle_School</td>\n",
       "      <td>Widowed</td>\n",
       "      <td>Student</td>\n",
       "      <td>Low</td>\n",
       "      <td>city</td>\n",
       "      <td>1</td>\n",
       "      <td>1</td>\n",
       "      <td>No</td>\n",
       "      <td>Yes</td>\n",
       "      <td>Medium</td>\n",
       "      <td>Medium</td>\n",
       "    </tr>\n",
       "    <tr>\n",
       "      <th>9996</th>\n",
       "      <td>27</td>\n",
       "      <td>female</td>\n",
       "      <td>High_School</td>\n",
       "      <td>Widowed</td>\n",
       "      <td>Student</td>\n",
       "      <td>Low</td>\n",
       "      <td>village</td>\n",
       "      <td>1</td>\n",
       "      <td>0</td>\n",
       "      <td>No</td>\n",
       "      <td>No</td>\n",
       "      <td>High</td>\n",
       "      <td>High</td>\n",
       "    </tr>\n",
       "    <tr>\n",
       "      <th>9997</th>\n",
       "      <td>31</td>\n",
       "      <td>male</td>\n",
       "      <td>High_School</td>\n",
       "      <td>Divorced</td>\n",
       "      <td>Unemployed</td>\n",
       "      <td>Low</td>\n",
       "      <td>village</td>\n",
       "      <td>1</td>\n",
       "      <td>1</td>\n",
       "      <td>Yes</td>\n",
       "      <td>No</td>\n",
       "      <td>Medium</td>\n",
       "      <td>Medium</td>\n",
       "    </tr>\n",
       "    <tr>\n",
       "      <th>9998</th>\n",
       "      <td>56</td>\n",
       "      <td>male</td>\n",
       "      <td>University</td>\n",
       "      <td>Married</td>\n",
       "      <td>Employed</td>\n",
       "      <td>High</td>\n",
       "      <td>city</td>\n",
       "      <td>0</td>\n",
       "      <td>0</td>\n",
       "      <td>No</td>\n",
       "      <td>No</td>\n",
       "      <td>Low</td>\n",
       "      <td>Medium</td>\n",
       "    </tr>\n",
       "    <tr>\n",
       "      <th>9999</th>\n",
       "      <td>53</td>\n",
       "      <td>female</td>\n",
       "      <td>Primary</td>\n",
       "      <td>Widowed</td>\n",
       "      <td>Employed</td>\n",
       "      <td>Low</td>\n",
       "      <td>city</td>\n",
       "      <td>0</td>\n",
       "      <td>0</td>\n",
       "      <td>No</td>\n",
       "      <td>No</td>\n",
       "      <td>Medium</td>\n",
       "      <td>High</td>\n",
       "    </tr>\n",
       "  </tbody>\n",
       "</table>\n",
       "<p>10000 rows × 13 columns</p>\n",
       "</div>"
      ],
      "text/plain": [
       "      age  gender        edu_lvl marital_status  occupation income_lvl  \\\n",
       "0      72    male     University       Divorced  Unemployed       High   \n",
       "1      49    male   Postgraduate       Divorced     Retired     Medium   \n",
       "2      53    male   Postgraduate        Widowed     Retired     Medium   \n",
       "3      67    male    High_School       Divorced  Unemployed       High   \n",
       "4      54  female        Primary       Divorced  Unemployed       High   \n",
       "...   ...     ...            ...            ...         ...        ...   \n",
       "9995   72  female  Middle_School        Widowed     Student        Low   \n",
       "9996   27  female    High_School        Widowed     Student        Low   \n",
       "9997   31    male    High_School       Divorced  Unemployed        Low   \n",
       "9998   56    male     University        Married    Employed       High   \n",
       "9999   53  female        Primary        Widowed    Employed        Low   \n",
       "\n",
       "     live_area  diagnosis  Family_History Substance_use Suicide_Attempt  \\\n",
       "0         city          0               0            No              No   \n",
       "1      village          1               1           Yes             Yes   \n",
       "2      village          1               1            No              No   \n",
       "3      village          0               0           Yes              No   \n",
       "4         city          0               0            No              No   \n",
       "...        ...        ...             ...           ...             ...   \n",
       "9995      city          1               1            No             Yes   \n",
       "9996   village          1               0            No              No   \n",
       "9997   village          1               1           Yes              No   \n",
       "9998      city          0               0            No              No   \n",
       "9999      city          0               0            No              No   \n",
       "\n",
       "     Social_Support Stress_Factors  \n",
       "0               Low           High  \n",
       "1              High           High  \n",
       "2               Low         Medium  \n",
       "3            Medium         Medium  \n",
       "4               Low         Medium  \n",
       "...             ...            ...  \n",
       "9995         Medium         Medium  \n",
       "9996           High           High  \n",
       "9997         Medium         Medium  \n",
       "9998            Low         Medium  \n",
       "9999         Medium           High  \n",
       "\n",
       "[10000 rows x 13 columns]"
      ]
     },
     "execution_count": 3,
     "metadata": {},
     "output_type": "execute_result"
    }
   ],
   "source": [
    "df"
   ]
  },
  {
   "cell_type": "code",
   "execution_count": 4,
   "id": "471e9c7d-6db2-4ef8-80ae-037b11c17402",
   "metadata": {},
   "outputs": [],
   "source": [
    "# Age – Patient's age (between 18 and 80)\n",
    "# Gender – 0: Female, 1: Male\n",
    "# Education_Level – 1: Primary, 2: Middle School, 3: High School, 4: University, 5: Postgraduate\n",
    "# Marital_Status – 0: Single, 1: Married, 2: Divorced, 3: Widowed\n",
    "# Occupation – 0: Unemployed, 1: Employed, 2: Retired, 3: Student\n",
    "# Income_Level – 0: Low, 1: Medium, 2: High\n",
    "# Living_Area – 0: Rural, 1: Urban\n",
    "# Diagnosis – 0: Not schizophrenic, 1: Schizophrenic\n",
    "# Family_History – 0: No, 1: Yes (Genetic predisposition)\n",
    "# Substance_Use – 0: No, 1: Yes (Tobacco, alcohol, or other substances)\n",
    "# Suicide_Attempt – 0: No, 1: Yes\n",
    "# Social_Support – 0: Low, 1: Medium, 2: High\n",
    "# Stress_Factors – 0: Low, 1: Medium, 2: High"
   ]
  },
  {
   "cell_type": "code",
   "execution_count": 5,
   "id": "62522122-1cfd-4e6d-b019-229964f73089",
   "metadata": {},
   "outputs": [],
   "source": [
    "X = df.drop(['diagnosis'], axis=1)\n",
    "y = df['diagnosis']"
   ]
  },
  {
   "cell_type": "code",
   "execution_count": 16,
   "id": "194453d4-4a53-46ea-b378-668e5d71f2f1",
   "metadata": {},
   "outputs": [],
   "source": [
    "X_train, X_test, y_train, y_test = train_test_split(X, y, test_size=0.15, random_state=42, stratify=y)"
   ]
  },
  {
   "cell_type": "code",
   "execution_count": 17,
   "id": "3647ff49-1099-48d3-9244-ce9e2cda18bb",
   "metadata": {},
   "outputs": [],
   "source": [
    "X_train = pd.get_dummies(X_train)\n",
    "X_test = pd.get_dummies(X_test)"
   ]
  },
  {
   "cell_type": "code",
   "execution_count": 19,
   "id": "66607e7a-9ab6-4802-b6f3-4831d2ce6fda",
   "metadata": {},
   "outputs": [
    {
     "name": "stdout",
     "output_type": "stream",
     "text": [
      "Roc 0.8251614385050111\n",
      "recall 0.4739141277692339\n",
      "precision 0.8717268731509173\n",
      "f1 0.6137236870493024\n"
     ]
    }
   ],
   "source": [
    "log_reg = LogisticRegression(random_state=42)\n",
    "log_reg.fit(X_train, y_train)\n",
    "\n",
    "roc_log_reg = cross_val_score(log_reg, X_train, y_train,cv=5, scoring='roc_auc').mean()\n",
    "recall_log_reg = cross_val_score(log_reg, X_train, y_train,cv=5, scoring='recall').mean()\n",
    "precision_log_reg = cross_val_score(log_reg, X_train, y_train,cv=5, scoring='precision').mean()\n",
    "f1_log_reg = cross_val_score(log_reg, X_train, y_train,cv=5, scoring='f1').mean()\n",
    "\n",
    "print('Roc', roc_log_reg)\n",
    "print('recall', recall_log_reg)\n",
    "print('precision', precision_log_reg)\n",
    "print('f1', f1_log_reg)"
   ]
  },
  {
   "cell_type": "code",
   "execution_count": 20,
   "id": "bd511016-b91b-41ec-a180-1ead39b84af7",
   "metadata": {},
   "outputs": [
    {
     "name": "stdout",
     "output_type": "stream",
     "text": [
      "Roc 0.6771372859968281\n",
      "recall 0.5594846003574545\n",
      "precision 0.525819791322166\n",
      "f1 0.5419390715332465\n"
     ]
    }
   ],
   "source": [
    "tree = DecisionTreeClassifier(random_state=42)\n",
    "tree.fit(X_train, y_train)\n",
    "\n",
    "roc_tree = cross_val_score(tree, X_train, y_train,cv=5, scoring='roc_auc').mean()\n",
    "recall_tree = cross_val_score(tree, X_train, y_train,cv=5, scoring='recall').mean()\n",
    "precision_tree = cross_val_score(tree, X_train, y_train,cv=5, scoring='precision').mean()\n",
    "f1_tree = cross_val_score(tree, X_train, y_train,cv=5, scoring='f1').mean()\n",
    "\n",
    "print('Roc', roc_tree)\n",
    "print('recall', recall_tree)\n",
    "print('precision', precision_tree)\n",
    "print('f1', f1_tree)"
   ]
  },
  {
   "cell_type": "code",
   "execution_count": 21,
   "id": "410a905b-d66c-458d-8e52-09278d4b194b",
   "metadata": {},
   "outputs": [
    {
     "name": "stdout",
     "output_type": "stream",
     "text": [
      "Roc 0.7999231285956256\n",
      "recall 0.4869495822769026\n",
      "precision 0.784685599211379\n",
      "f1 0.6005659107100912\n"
     ]
    }
   ],
   "source": [
    "rf = RandomForestClassifier(random_state=42)\n",
    "rf.fit(X_train, y_train)\n",
    "\n",
    "roc_rf = cross_val_score(rf, X_train, y_train,cv=5, scoring='roc_auc').mean()\n",
    "recall_rf = cross_val_score(rf, X_train, y_train,cv=5, scoring='recall').mean()\n",
    "precision_rf = cross_val_score(rf, X_train, y_train,cv=5, scoring='precision').mean()\n",
    "f1_rf = cross_val_score(rf, X_train, y_train,cv=5, scoring='f1').mean()\n",
    "\n",
    "print('Roc', roc_rf)\n",
    "print('recall', recall_rf)\n",
    "print('precision', precision_rf)\n",
    "print('f1', f1_rf)"
   ]
  },
  {
   "cell_type": "code",
   "execution_count": 22,
   "id": "3f328da4-3a66-42f7-85c2-b0d737e91f8c",
   "metadata": {},
   "outputs": [
    {
     "name": "stdout",
     "output_type": "stream",
     "text": [
      "Roc 0.6689534460055382\n",
      "recall 0.24653892514235837\n",
      "precision 0.6317589640378533\n",
      "f1 0.35448126524002105\n"
     ]
    }
   ],
   "source": [
    "knn = KNeighborsClassifier()\n",
    "knn.fit(X_train, y_train)\n",
    "\n",
    "roc_knn = cross_val_score(knn, X_train, y_train,cv=5, scoring='roc_auc').mean()\n",
    "recall_knn = cross_val_score(knn, X_train, y_train,cv=5, scoring='recall').mean()\n",
    "precision_knn = cross_val_score(knn, X_train, y_train,cv=5, scoring='precision').mean()\n",
    "f1_knn = cross_val_score(knn, X_train, y_train,cv=5, scoring='f1').mean()\n",
    "\n",
    "print('Roc', roc_knn)\n",
    "print('recall', recall_knn)\n",
    "print('precision', precision_knn)\n",
    "print('f1', f1_knn)"
   ]
  },
  {
   "cell_type": "code",
   "execution_count": 23,
   "id": "99f711cc-58a0-464a-bb80-134cae21b4da",
   "metadata": {},
   "outputs": [
    {
     "name": "stdout",
     "output_type": "stream",
     "text": [
      "Roc 0.8125698841138516\n",
      "recall 0.4975476952491792\n",
      "precision 0.7930897558677042\n",
      "f1 0.6110318465592517\n"
     ]
    }
   ],
   "source": [
    "cat = CatBoostClassifier(random_state=42,verbose=False)\n",
    "cat.fit(X_train, y_train)\n",
    "\n",
    "roc_cat = cross_val_score(cat, X_train, y_train,cv=5, scoring='roc_auc').mean()\n",
    "recall_cat = cross_val_score(cat, X_train, y_train,cv=5, scoring='recall').mean()\n",
    "precision_cat = cross_val_score(cat, X_train, y_train,cv=5, scoring='precision').mean()\n",
    "f1_cat = cross_val_score(cat, X_train, y_train,cv=5, scoring='f1').mean()\n",
    "\n",
    "print('Roc', roc_cat)\n",
    "print('recall', recall_cat)\n",
    "print('precision', precision_cat)\n",
    "print('f1', f1_cat)"
   ]
  },
  {
   "cell_type": "code",
   "execution_count": 24,
   "id": "ed82695c-beb2-47e8-94ef-e5394819661f",
   "metadata": {},
   "outputs": [],
   "source": [
    "df_results = pd.DataFrame({\n",
    "    \"Model\": ['LogisticRegression', 'DecisionTreeClassifier', 'RandomForestClassifier', 'KNeighborsClassifier', 'CatBoostClassifier'],\n",
    "    \"ROC-AUC\": [roc_log_reg, roc_tree, roc_rf, roc_knn, roc_cat],\n",
    "    \"Recall\": [recall_log_reg, recall_tree, recall_rf, recall_knn, recall_cat],\n",
    "    \"Precision\": [precision_log_reg, precision_tree, precision_rf, precision_knn, precision_cat],\n",
    "    \"F1 Score\": [f1_log_reg, f1_tree, f1_rf, f1_knn, f1_cat]\n",
    "})"
   ]
  },
  {
   "cell_type": "code",
   "execution_count": 25,
   "id": "55a1b6a8-f0b1-497e-b059-d047115a9f0f",
   "metadata": {},
   "outputs": [
    {
     "data": {
      "text/html": [
       "<div>\n",
       "<style scoped>\n",
       "    .dataframe tbody tr th:only-of-type {\n",
       "        vertical-align: middle;\n",
       "    }\n",
       "\n",
       "    .dataframe tbody tr th {\n",
       "        vertical-align: top;\n",
       "    }\n",
       "\n",
       "    .dataframe thead th {\n",
       "        text-align: right;\n",
       "    }\n",
       "</style>\n",
       "<table border=\"1\" class=\"dataframe\">\n",
       "  <thead>\n",
       "    <tr style=\"text-align: right;\">\n",
       "      <th></th>\n",
       "      <th>Model</th>\n",
       "      <th>ROC-AUC</th>\n",
       "      <th>Recall</th>\n",
       "      <th>Precision</th>\n",
       "      <th>F1 Score</th>\n",
       "    </tr>\n",
       "  </thead>\n",
       "  <tbody>\n",
       "    <tr>\n",
       "      <th>0</th>\n",
       "      <td>LogisticRegression</td>\n",
       "      <td>0.825161</td>\n",
       "      <td>0.473914</td>\n",
       "      <td>0.871727</td>\n",
       "      <td>0.613724</td>\n",
       "    </tr>\n",
       "    <tr>\n",
       "      <th>1</th>\n",
       "      <td>DecisionTreeClassifier</td>\n",
       "      <td>0.677137</td>\n",
       "      <td>0.559485</td>\n",
       "      <td>0.525820</td>\n",
       "      <td>0.541939</td>\n",
       "    </tr>\n",
       "    <tr>\n",
       "      <th>2</th>\n",
       "      <td>RandomForestClassifier</td>\n",
       "      <td>0.799923</td>\n",
       "      <td>0.486950</td>\n",
       "      <td>0.784686</td>\n",
       "      <td>0.600566</td>\n",
       "    </tr>\n",
       "    <tr>\n",
       "      <th>3</th>\n",
       "      <td>KNeighborsClassifier</td>\n",
       "      <td>0.668953</td>\n",
       "      <td>0.246539</td>\n",
       "      <td>0.631759</td>\n",
       "      <td>0.354481</td>\n",
       "    </tr>\n",
       "    <tr>\n",
       "      <th>4</th>\n",
       "      <td>CatBoostClassifier</td>\n",
       "      <td>0.812570</td>\n",
       "      <td>0.497548</td>\n",
       "      <td>0.793090</td>\n",
       "      <td>0.611032</td>\n",
       "    </tr>\n",
       "  </tbody>\n",
       "</table>\n",
       "</div>"
      ],
      "text/plain": [
       "                    Model   ROC-AUC    Recall  Precision  F1 Score\n",
       "0      LogisticRegression  0.825161  0.473914   0.871727  0.613724\n",
       "1  DecisionTreeClassifier  0.677137  0.559485   0.525820  0.541939\n",
       "2  RandomForestClassifier  0.799923  0.486950   0.784686  0.600566\n",
       "3    KNeighborsClassifier  0.668953  0.246539   0.631759  0.354481\n",
       "4      CatBoostClassifier  0.812570  0.497548   0.793090  0.611032"
      ]
     },
     "execution_count": 25,
     "metadata": {},
     "output_type": "execute_result"
    }
   ],
   "source": [
    "df_results"
   ]
  },
  {
   "cell_type": "markdown",
   "id": "4feaa703-b08f-45e4-9848-9e258d4b9957",
   "metadata": {},
   "source": [
    "## Тут мы видем что лучшая модель LogisticRegression"
   ]
  },
  {
   "cell_type": "code",
   "execution_count": 31,
   "id": "d97b8ba4-70e6-4017-b472-3a174e8ebd47",
   "metadata": {},
   "outputs": [
    {
     "name": "stdout",
     "output_type": "stream",
     "text": [
      "Fitting 5 folds for each of 240 candidates, totalling 1200 fits\n",
      "Лучшие параметры: {'C': 0.03, 'max_iter': 120, 'penalty': 'l2', 'solver': 'saga'}\n",
      "Лучшая точность: 0.8254450646946916\n"
     ]
    }
   ],
   "source": [
    "model = LogisticRegression(random_state=42)\n",
    "\n",
    "param_grid = {\n",
    "    'C': [0.01, 0.03, 0.05, 0.07, 0.1],\n",
    "    'penalty': ['l1', 'l2', 'elasticnet', None],\n",
    "    'solver': ['liblinear', 'lbfgs', 'saga'],\n",
    "    'max_iter':[50, 70, 100, 120]\n",
    "}\n",
    "\n",
    "grid_search = GridSearchCV(model, param_grid, cv=5, scoring='roc_auc', n_jobs=-1, verbose=1)\n",
    "\n",
    "grid_search.fit(X_train, y_train)\n",
    "\n",
    "best_model = grid_search.best_estimator_\n",
    "\n",
    "print(\"Лучшие параметры:\", grid_search.best_params_)\n",
    "print(\"Лучшая точность:\", grid_search.best_score_)"
   ]
  },
  {
   "cell_type": "code",
   "execution_count": 51,
   "id": "294350c1-d221-4002-a195-a63553933bc3",
   "metadata": {},
   "outputs": [
    {
     "data": {
      "image/png": "[encoded data removed]",
      "text/plain": [
       "<Figure size 800x600 with 1 Axes>"
      ]
     },
     "metadata": {},
     "output_type": "display_data"
    }
   ],
   "source": [
    "best_model.fit(X_train, y_train)\n",
    "\n",
    "# Получаем вероятности принадлежности к положительному классу (класс \"1\")\n",
    "y_scores_best = best_model.predict_proba(X_test)[:, 1]\n",
    "\n",
    "# Рассчитываем precision, recall и thresholds\n",
    "precision, recall, thresholds = precision_recall_curve(y_test, y_scores_best)\n",
    "\n",
    "# Визуализируем зависимость precision и recall от threshold\n",
    "plt.figure(figsize=(8, 6))\n",
    "plt.plot(thresholds, precision[:-1], label=\"Precision\", marker=\"o\")\n",
    "plt.plot(thresholds, recall[:-1], label=\"Recall\", marker=\"s\")\n",
    "plt.xlabel(\"Threshold\")\n",
    "plt.ylabel(\"Score\")\n",
    "plt.legend()\n",
    "plt.title(\"Precision and Recall vs Threshfold\")\n",
    "plt.grid()\n",
    "plt.show()"
   ]
  },
  {
   "cell_type": "code",
   "execution_count": 46,
   "id": "b17d1623-6f03-4ffb-beab-36c1a70b2b97",
   "metadata": {},
   "outputs": [],
   "source": [
    "y_pred_best = (y_scores_best >= 0.35).astype(int)"
   ]
  },
  {
   "cell_type": "code",
   "execution_count": 47,
   "id": "a2a1cdff-6b61-4825-ba07-1bda0d5c85e1",
   "metadata": {},
   "outputs": [],
   "source": [
    "best_recall_score = recall_score(y_test, y_pred_best)\n",
    "best_precision_score = precision_score(y_test, y_pred_best)\n",
    "best_f1_score = f1_score(y_test, y_pred_best)\n",
    "best_roc_auc = cross_val_score(best_model, X_train, y_train,cv=5, scoring='roc_auc').mean()"
   ]
  },
  {
   "cell_type": "code",
   "execution_count": 48,
   "id": "1e6fa447-0ddf-44cc-ac6d-3ed2255a580f",
   "metadata": {},
   "outputs": [],
   "source": [
    "df_best = pd.DataFrame({\n",
    "    \"Model\": ['LogisticRegression_BEST'],\n",
    "    \"ROC-AUC\": [best_roc_auc],\n",
    "    \"Recall\": [best_recall_score],\n",
    "    \"Precision\": [best_precision_score],\n",
    "    \"F1 Score\": [best_f1_score]\n",
    "})"
   ]
  },
  {
   "cell_type": "code",
   "execution_count": 49,
   "id": "dc9d85b8-46c9-4cb7-89cd-1685b6f0f8ee",
   "metadata": {},
   "outputs": [
    {
     "data": {
      "text/html": [
       "<div>\n",
       "<style scoped>\n",
       "    .dataframe tbody tr th:only-of-type {\n",
       "        vertical-align: middle;\n",
       "    }\n",
       "\n",
       "    .dataframe tbody tr th {\n",
       "        vertical-align: top;\n",
       "    }\n",
       "\n",
       "    .dataframe thead th {\n",
       "        text-align: right;\n",
       "    }\n",
       "</style>\n",
       "<table border=\"1\" class=\"dataframe\">\n",
       "  <thead>\n",
       "    <tr style=\"text-align: right;\">\n",
       "      <th></th>\n",
       "      <th>Model</th>\n",
       "      <th>ROC-AUC</th>\n",
       "      <th>Recall</th>\n",
       "      <th>Precision</th>\n",
       "      <th>F1 Score</th>\n",
       "    </tr>\n",
       "  </thead>\n",
       "  <tbody>\n",
       "    <tr>\n",
       "      <th>0</th>\n",
       "      <td>LogisticRegression_BEST</td>\n",
       "      <td>0.825445</td>\n",
       "      <td>0.706697</td>\n",
       "      <td>0.641509</td>\n",
       "      <td>0.672527</td>\n",
       "    </tr>\n",
       "  </tbody>\n",
       "</table>\n",
       "</div>"
      ],
      "text/plain": [
       "                     Model   ROC-AUC    Recall  Precision  F1 Score\n",
       "0  LogisticRegression_BEST  0.825445  0.706697   0.641509  0.672527"
      ]
     },
     "execution_count": 49,
     "metadata": {},
     "output_type": "execute_result"
    }
   ],
   "source": [
    "df_best"
   ]
  },
  {
   "cell_type": "code",
   "execution_count": null,
   "id": "a2c1b3b0-898b-460f-8aea-bc5e10f01e78",
   "metadata": {},
   "outputs": [],
   "source": []
  },
  {
   "cell_type": "code",
   "execution_count": null,
   "id": "93807040-9157-4514-80cc-dd35eb633dd6",
   "metadata": {},
   "outputs": [],
   "source": []
  },
  {
   "cell_type": "code",
   "execution_count": null,
   "id": "89278cca-e0f4-4d92-92da-200b52d95b7a",
   "metadata": {},
   "outputs": [],
   "source": []
  },
  {
   "cell_type": "code",
   "execution_count": null,
   "id": "76389ec9-d254-4a9e-8e21-cb4059665e56",
   "metadata": {},
   "outputs": [],
   "source": []
  },
  {
   "cell_type": "code",
   "execution_count": null,
   "id": "b0c6cd6c-1401-413a-a9b6-d4bf72be05cb",
   "metadata": {},
   "outputs": [],
   "source": []
  },
  {
   "cell_type": "code",
   "execution_count": null,
   "id": "fd9effa8-5b31-4b40-8974-641fd8f8a13d",
   "metadata": {},
   "outputs": [],
   "source": []
  }
 ],
 "metadata": {
  "kernelspec": {
   "display_name": "Python 3 (ipykernel)",
   "language": "python",
   "name": "python3"
  },
  "language_info": {
   "codemirror_mode": {
    "name": "ipython",
    "version": 3
   },
   "file_extension": ".py",
   "mimetype": "text/x-python",
   "name": "python",
   "nbconvert_exporter": "python",
   "pygments_lexer": "ipython3",
   "version": "3.12.7"
  }
 },
 "nbformat": 4,
 "nbformat_minor": 5
}
